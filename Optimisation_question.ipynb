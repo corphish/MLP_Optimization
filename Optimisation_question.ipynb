{
 "cells": [
  {
   "cell_type": "markdown",
   "metadata": {},
   "source": [
    "## **Optimization using Tensorflow Keras**\n",
    "In this scenario of hackerrank, you will be exploring about the **Optimisation** and different optimizers present and how to use it.  \n",
    "\n",
    "We will look at three scenarios here\n",
    "1. Tuning different optimisation algorithms, \n",
    "2. Tuning learning rate and momentum of SGD optimizer\n",
    "3. Tuning beta values of Adam optimizer\n",
    "\n",
    "**Note** - Finally restart and run all the cells after the completion of the challenge\n"
   ]
  },
  {
   "cell_type": "markdown",
   "metadata": {},
   "source": [
    "### Import the required packages"
   ]
  },
  {
   "cell_type": "code",
   "execution_count": null,
   "metadata": {
    "scrolled": true
   },
   "outputs": [],
   "source": [
    "import numpy as np\n",
    "from sklearn.model_selection import GridSearchCV\n",
    "from keras.models import Sequential\n",
    "from keras.layers import Dense\n",
    "from keras.wrappers.scikit_learn import KerasClassifier\n",
    "from sklearn.datasets import load_iris\n",
    "from sklearn.model_selection import train_test_split\n",
    "from sklearn.preprocessing import LabelEncoder,StandardScaler\n",
    "from sklearn.utils import shuffle\n",
    "from keras.utils.np_utils import to_categorical\n",
    "from keras.optimizers import SGD,Adam\n",
    "from matplotlib import pyplot\n",
    "import seaborn as sns\n",
    "import pandas as pd\n",
    "from keras.models import model_from_json\n"
   ]
  },
  {
   "cell_type": "markdown",
   "metadata": {},
   "source": [
    "### Load the Dataset\n",
    "\n",
    "- Load the iris dataset using load_iris() function.\n",
    "- Store the data of the iris dataset in the variable **X**.\n",
    "- Store the target of the iris dataset in the variable **y**.\n",
    "- Convert the variable **y** into categorial variable using function to_categorial and save it in variable **y**.\n",
    "- Set seed value as 7 in the variable **seed** and use random.seed function in numpy to set seed value.\n",
    "- Now shuffle the data **X** and **y** using shuffle function and save it in variables **X** ,**Y**."
   ]
  },
  {
   "cell_type": "code",
   "execution_count": null,
   "metadata": {},
   "outputs": [],
   "source": [
    "# fix random seed for reproducibility\n",
    "\n",
    "iris = \n",
    "X= \n",
    "#Y = to_categorical(iris.target,3)\n",
    "y = \n",
    "y = \n",
    "seed =\n",
    "\n",
    "X, Y = "
   ]
  },
  {
   "cell_type": "markdown",
   "metadata": {},
   "source": [
    "---------------------------------------------------------------------------\n",
    "## **1.Tuning Different Optimisation Algorithms**\n",
    "-------------------------------------------------------------------\n",
    "\n",
    "In variable optimizer pass the following optimizers as a list -\n",
    "- SGD,RMSprop,Adam,Nadam\n",
    "\n",
    "In param_grid pass parameter optimizer as optimizer using dict"
   ]
  },
  {
   "cell_type": "code",
   "execution_count": null,
   "metadata": {},
   "outputs": [],
   "source": [
    "optimizer = \n",
    "\n",
    "param_grid = "
   ]
  },
  {
   "cell_type": "markdown",
   "metadata": {},
   "source": [
    "### Create Model\n",
    "\n",
    "Construct a fully-connected network structure defined using dense class in the function create_model\n",
    "- Create a sequential model\n",
    "- The model expects rows of data with 4 variables (the input_dim=4 argument)\n",
    "- The first hidden layer has 64 nodes and uses the relu activation function.\n",
    "- The second hidden layer has 32 nodes and uses the relu activation function.\n",
    "- The third hidden layer has 16 nodes and uses the relu activation function.\n",
    "- The output layer has 3 nodes and uses the softmax activation function.\n",
    "- While comipling the model pass the following parameters -\n",
    "                    \n",
    "           -optimizer as optimizer\n",
    "           -loss as categorical cross entropy \n",
    "           -metrics as accuracy.\n",
    " -  Return the compiled model"
   ]
  },
  {
   "cell_type": "code",
   "execution_count": null,
   "metadata": {},
   "outputs": [],
   "source": [
    "def create_model(optimizer='adam'):\n",
    "    \n",
    "    \n",
    "    \n",
    "    \n",
    "    \n",
    "    \n",
    "    return model"
   ]
  },
  {
   "cell_type": "markdown",
   "metadata": {},
   "source": [
    "Use the KerasClassifier function to call the model function with following parameters -\n",
    "- build_fn as create_model\n",
    "- batch_size as 10\n",
    "- verbose as 0\n",
    "- epochs as 10\n",
    "\n",
    "Save the above in the variable model"
   ]
  },
  {
   "cell_type": "code",
   "execution_count": null,
   "metadata": {},
   "outputs": [],
   "source": [
    "model = \n"
   ]
  },
  {
   "cell_type": "markdown",
   "metadata": {},
   "source": [
    "In grid use the GridSearchCV function and pass the following parameters -\n",
    "- estimator as model\n",
    "- param_grid as param_grid\n",
    "- n_jobs as 1\n",
    "\n",
    "Now fit the model with X and Y using grid and save it in grid_result\n",
    "\n",
    "**Note** - While running fit model this might take upto 2-5 minutes to run this cell"
   ]
  },
  {
   "cell_type": "code",
   "execution_count": null,
   "metadata": {
    "scrolled": false
   },
   "outputs": [],
   "source": [
    "grid = \n",
    "grid_result = "
   ]
  },
  {
   "cell_type": "markdown",
   "metadata": {},
   "source": [
    "### Run the below cell to summarize the results"
   ]
  },
  {
   "cell_type": "code",
   "execution_count": null,
   "metadata": {},
   "outputs": [],
   "source": [
    "# summarize results\n",
    "print(\"Best: %f using %s\" % (grid_result.best_score_, grid_result.best_params_))\n",
    "means = grid_result.cv_results_['mean_test_score']\n",
    "stds = grid_result.cv_results_['std_test_score']\n",
    "params = grid_result.cv_results_['params']\n",
    "for mean, stdev, param in zip(means, stds, params):\n",
    "    print(\"%f (%f) with: %r\" % (mean, stdev, param))"
   ]
  },
  {
   "cell_type": "markdown",
   "metadata": {},
   "source": [
    "### Run the below cell to plot the results"
   ]
  },
  {
   "cell_type": "code",
   "execution_count": null,
   "metadata": {
    "scrolled": false
   },
   "outputs": [],
   "source": [
    "pyplot.figure(figsize=(10,8))\n",
    "#pyplot.xticks(grid_result1.cv_results_['mean_test_score'])\n",
    "pyplot.title(\"Performance metrics of each optimiser\")\n",
    "plot=sns.barplot(grid_result.cv_results_['mean_test_score'],optimizer)\n",
    "pyplot.show() "
   ]
  },
  {
   "cell_type": "markdown",
   "metadata": {},
   "source": [
    "---------------------------------------------------------------------------\n",
    "## **2.Tuning Learning rate and Momentum of SGD Optimizer**\n",
    "-------------------------------------------------------------------\n",
    "In variable learn_rate pass the following learn rates as a list -\n",
    "- 0.001, 0.01,0.3\n",
    "\n",
    "In variable momentum pass the following momentums as a list -\n",
    "- 0.0, 0.4, 0.9"
   ]
  },
  {
   "cell_type": "code",
   "execution_count": null,
   "metadata": {},
   "outputs": [],
   "source": [
    "learn_rate = \n",
    "momentum = "
   ]
  },
  {
   "cell_type": "markdown",
   "metadata": {},
   "source": [
    "\n",
    "### Create Model\n",
    "\n",
    "Use the same model parameters as above to construct the model in the function create_model1\n",
    "\n",
    "In the variable optimizer pass the following parameters using the optimizer SGD\n",
    "\n",
    "     -lr as learn_rate\n",
    "     -momentum as momentum\n",
    "While comipling the model pass the following parameters -\n",
    "\n",
    "     -optimizer as optimizer\n",
    "     -loss as categorical cross entropy \n",
    "     -metrics as accuracy.\n",
    "Return the compiled model"
   ]
  },
  {
   "cell_type": "code",
   "execution_count": null,
   "metadata": {},
   "outputs": [],
   "source": [
    "def create_model1(learn_rate=0.01, momentum=0):\n",
    "\n",
    "    \n",
    "    \n",
    "    \n",
    "    optimizer=\n",
    "    \n",
    "    \n",
    "    return model\n"
   ]
  },
  {
   "cell_type": "markdown",
   "metadata": {},
   "source": [
    "Use the KerasClassifier function to call the model function with following parameters -\n",
    "\n",
    "- build_fn as create_model1\n",
    "- batch_size as 10\n",
    "- verbose as 0\n",
    "- epochs as 10\n",
    "\n",
    "Save the above in the variable model1"
   ]
  },
  {
   "cell_type": "code",
   "execution_count": null,
   "metadata": {},
   "outputs": [],
   "source": [
    "model1 = \n"
   ]
  },
  {
   "cell_type": "markdown",
   "metadata": {},
   "source": [
    "In param_grid1 pass parameter learn_rate as learn_rate and momentum as momentum using dict\n",
    "\n",
    "In grid1 use the GridSearchCV function and pass the following parameters -\n",
    "- estimator as model1\n",
    "- param_grid as param_grid1\n",
    "- n_jobs as 1\n",
    "\n"
   ]
  },
  {
   "cell_type": "code",
   "execution_count": null,
   "metadata": {},
   "outputs": [],
   "source": [
    "param_grid1 = \n",
    "grid1 = "
   ]
  },
  {
   "cell_type": "markdown",
   "metadata": {},
   "source": [
    "Use random.seed function in numpy to set seed value.\n",
    "\n",
    "Now fit the model with X and Y using grid1 and save it in grid_result1\n",
    "\n",
    "**Note** - While running fit model this might take upto 2-5 minutes to run this cell"
   ]
  },
  {
   "cell_type": "code",
   "execution_count": null,
   "metadata": {
    "scrolled": true
   },
   "outputs": [],
   "source": [
    "\n",
    "grid_result1 = "
   ]
  },
  {
   "cell_type": "markdown",
   "metadata": {},
   "source": [
    "### Run the below cell to summarize the results"
   ]
  },
  {
   "cell_type": "code",
   "execution_count": null,
   "metadata": {
    "scrolled": false
   },
   "outputs": [],
   "source": [
    "# summarize results\n",
    "print(\"Best: %f using %s\" % (grid_result1.best_score_, grid_result1.best_params_))\n",
    "means1 = grid_result1.cv_results_['mean_test_score']\n",
    "stds1 = grid_result1.cv_results_['std_test_score']\n",
    "params1 = grid_result1.cv_results_['params']\n",
    "for mean, stdev, param in zip(means1, stds1, params1):\n",
    "    print(\"%f (%f) with: %r\" % (mean, stdev, param))"
   ]
  },
  {
   "cell_type": "markdown",
   "metadata": {},
   "source": [
    "### Run the below cell to plot the results"
   ]
  },
  {
   "cell_type": "code",
   "execution_count": null,
   "metadata": {
    "scrolled": false
   },
   "outputs": [],
   "source": [
    "params1=pd.DataFrame(params1)\n",
    "pyplot.figure(figsize=(10,8))\n",
    "#pyplot.xticks(grid_result1.cv_results_['mean_test_score'])\n",
    "pyplot.title(\"Performance metrics of SGD optimiser with different learning rates and momentum\")\n",
    "plot1=sns.barplot(params1[\"learn_rate\"],grid_result1.cv_results_['mean_test_score'],hue=params1[\"momentum\"])\n",
    "plot1.set(ylabel='Score')\n",
    "pyplot.show() "
   ]
  },
  {
   "cell_type": "markdown",
   "metadata": {},
   "source": [
    "---------------------------------------------------------------------------\n",
    "## **3.Tuning beta values of Adam Optimizer**\n",
    "-------------------------------------------------------------------\n",
    "\n",
    "\n",
    "In variable beta_1 pass the following learn rates as a list -\n",
    "- 0.001, 0.01,0.3\n",
    "\n",
    "In variable beta_2 pass the following momentums as a list -\n",
    "- 0.0, 0.4, 0.9"
   ]
  },
  {
   "cell_type": "code",
   "execution_count": null,
   "metadata": {},
   "outputs": [],
   "source": [
    "beta_1 = \n",
    "beta_2 = "
   ]
  },
  {
   "cell_type": "markdown",
   "metadata": {},
   "source": [
    "### Create Model\n",
    "\n",
    "Use the same model parameters as above to construct the model in the function create_model2\n",
    "\n",
    "In the variable optimizer pass the following parameters using the optimizer Adam\n",
    "\n",
    "     -beta_1 as beta_1\n",
    "     -beta_2 as beta_2\n",
    "While comipling the model pass the following parameters -\n",
    "\n",
    "     -optimizer as optimizer\n",
    "     -loss as categorical cross entropy \n",
    "     -metrics as accuracy.\n",
    "Return the compiled model"
   ]
  },
  {
   "cell_type": "code",
   "execution_count": null,
   "metadata": {},
   "outputs": [],
   "source": [
    "def create_model2(beta_1=0.01, beta_2=0):\n",
    "\n",
    "    \n",
    "    \n",
    "    \n",
    "    \n",
    "    optimizer=\n",
    "    return model\n"
   ]
  },
  {
   "cell_type": "markdown",
   "metadata": {},
   "source": [
    "Use the KerasClassifier function to call the model function with following parameters -\n",
    "\n",
    "- build_fn as create_model2\n",
    "- batch_size as 10\n",
    "- verbose as 0\n",
    "- epochs as 10\n",
    "\n",
    "Save the above in the variable model2"
   ]
  },
  {
   "cell_type": "code",
   "execution_count": null,
   "metadata": {},
   "outputs": [],
   "source": [
    "model2 = \n"
   ]
  },
  {
   "cell_type": "markdown",
   "metadata": {},
   "source": [
    "In param_grid2 pass parameter beta_1 as beta_1 and beta_2 as beta_2 using dict\n",
    "\n",
    "In grid2 use the GridSearchCV function and pass the following parameters -\n",
    "- estimator as model2\n",
    "- param_grid as param_grid2\n",
    "- n_jobs as 1"
   ]
  },
  {
   "cell_type": "code",
   "execution_count": null,
   "metadata": {},
   "outputs": [],
   "source": [
    "param_grid2 = \n",
    "grid2 = "
   ]
  },
  {
   "cell_type": "markdown",
   "metadata": {},
   "source": [
    "Use random.seed function in numpy to set seed value.\n",
    "\n",
    "Now fit the model with X and Y using grid2 and save it in grid_result2\n",
    "\n",
    "**Note** - While running fit model this might take upto 2-5 minutes to run this cell"
   ]
  },
  {
   "cell_type": "code",
   "execution_count": null,
   "metadata": {
    "scrolled": true
   },
   "outputs": [],
   "source": [
    "\n",
    "grid_result2 = "
   ]
  },
  {
   "cell_type": "markdown",
   "metadata": {},
   "source": [
    "### Run the below cell to summarize the results"
   ]
  },
  {
   "cell_type": "code",
   "execution_count": null,
   "metadata": {},
   "outputs": [],
   "source": [
    "# summarize results\n",
    "print(\"Best: %f using %s\" % (grid_result2.best_score_, grid_result2.best_params_))\n",
    "means2 = grid_result2.cv_results_['mean_test_score']\n",
    "stds2 = grid_result2.cv_results_['std_test_score']\n",
    "params2 = grid_result2.cv_results_['params']\n",
    "for mean, stdev, param in zip(means2, stds2, params2):\n",
    "    print(\"%f (%f) with: %r\" % (mean, stdev, param))"
   ]
  },
  {
   "cell_type": "markdown",
   "metadata": {},
   "source": [
    "### Run the below cell to plot the results"
   ]
  },
  {
   "cell_type": "code",
   "execution_count": null,
   "metadata": {},
   "outputs": [],
   "source": [
    "params2=pd.DataFrame(params2)\n",
    "pyplot.figure(figsize=(10,8))\n",
    "#pyplot.xticks(grid_result1.cv_results_['mean_test_score'])\n",
    "pyplot.title(\"Performance metrics of SGD optimiser with different beta values\")\n",
    "plot2=sns.barplot(params2[\"beta_1\"],grid_result2.cv_results_['mean_test_score'],hue=params2[\"beta_2\"])\n",
    "plot2.set(ylabel='Score')\n",
    "pyplot.show() "
   ]
  },
  {
   "cell_type": "markdown",
   "metadata": {},
   "source": [
    "**Note**\n",
    "\n",
    "In the same way you can use other optimization algorithms and perform operations using it.\n",
    "\n",
    "You can tune parameters of other optimizers in the same way as we did in this excercise."
   ]
  },
  {
   "cell_type": "markdown",
   "metadata": {},
   "source": [
    "### Run the below cells to save your scores and model for testing"
   ]
  },
  {
   "cell_type": "code",
   "execution_count": null,
   "metadata": {},
   "outputs": [],
   "source": [
    "with open(\"score.txt\",\"w\") as f:\n",
    "    f.write(str(round(grid_result.best_score_,2)))\n",
    "with open(\"params.txt\",\"w\") as f:\n",
    "    f.write(str(grid_result.best_params_))\n",
    "\n",
    "with open(\"score1.txt\",\"w\") as f:\n",
    "    f.write(str(round(grid_result1.best_score_,2)))\n",
    "with open(\"params1.txt\",\"w\") as f:\n",
    "    f.write(str(grid_result1.best_params_))\n",
    "    \n",
    "with open(\"score2.txt\",\"w\") as f:\n",
    "    f.write(str(round(grid_result2.best_score_,2)))\n",
    "with open(\"params2.txt\",\"w\") as f:\n",
    "    f.write(str(grid_result2.best_params_))\n",
    "        "
   ]
  },
  {
   "cell_type": "code",
   "execution_count": null,
   "metadata": {},
   "outputs": [],
   "source": [
    "def save_model(model):\n",
    "    # saving model\n",
    "    json_model = model.to_json()\n",
    "    open('model.json', 'w').write(json_model)\n",
    "    # saving weights\n",
    "    model.save_weights('model.h5', overwrite=True)\n",
    "classifier=create_model()\n",
    "save_model(classifier)"
   ]
  },
  {
   "cell_type": "code",
   "execution_count": null,
   "metadata": {},
   "outputs": [],
   "source": []
  }
 ],
 "metadata": {
  "kernelspec": {
   "display_name": "Python 3",
   "language": "python",
   "name": "python3"
  },
  "language_info": {
   "codemirror_mode": {
    "name": "ipython",
    "version": 3
   },
   "file_extension": ".py",
   "mimetype": "text/x-python",
   "name": "python",
   "nbconvert_exporter": "python",
   "pygments_lexer": "ipython3",
   "version": "3.6.5"
  }
 },
 "nbformat": 4,
 "nbformat_minor": 2
}
